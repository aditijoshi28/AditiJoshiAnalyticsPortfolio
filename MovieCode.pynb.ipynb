{
 "cells": [
  {
   "cell_type": "code",
   "execution_count": null,
   "metadata": {},
   "outputs": [],
   "source": [
    "#importing libraries\n",
    "import pandas as pd\n",
    "import numpy as np\n",
    "import seaborn as sns\n",
    "\n",
    "import matplotlib.pyplot as plt\n",
    "import matplotlib.mlab as mlab\n",
    "import matplotlib\n",
    "plt.style.use('ggplot')\n",
    "from matplotlib.pyplot import figure\n",
    "\n",
    "matplotlib.rcParams['figure.figsize'] = (12,8)\n",
    "\n",
    "pd.options.mode.chained_assignment = None"
   ]
  },
  {
   "cell_type": "code",
   "execution_count": null,
   "metadata": {},
   "outputs": [],
   "source": [
    "#Importing data\n",
    "df = pd.read_csv('movies.csv')"
   ]
  },
  {
   "cell_type": "code",
   "execution_count": null,
   "metadata": {},
   "outputs": [],
   "source": [
    "#looping through the df to look for any missing data\n",
    "for col in df.columns:\n",
    "    pct_missing = np.mean(df[col].isnull())\n",
    "    print('{} - {}%'.format(col, round(pct_missing*100)))\n",
    "#edit the dataset in excel"
   ]
  },
  {
   "cell_type": "code",
   "execution_count": null,
   "metadata": {},
   "outputs": [],
   "source": [
    "#getting the datatypes\n",
    "print(df.dtypes)\n"
   ]
  },
  {
   "cell_type": "code",
   "execution_count": null,
   "metadata": {},
   "outputs": [],
   "source": [
    "\n",
    "#finding out the outliers\n",
    "df.boxplot(column=['gross'])\n",
    "plt.show()\n"
   ]
  },
  {
   "cell_type": "code",
   "execution_count": null,
   "metadata": {},
   "outputs": [],
   "source": [
    "\n",
    "#dropping duplicates\n",
    "df.drop_duplicates()\n",
    "print(df)\n"
   ]
  },
  {
   "cell_type": "code",
   "execution_count": null,
   "metadata": {},
   "outputs": [],
   "source": [
    "\n",
    "#ordering the data\n",
    "df.sort_values(by=['gross'], inplace = False, ascending= False)\n",
    "\n",
    "#regression plot (budget)\n",
    "sns.regplot(x=\"gross\", y=\"budget\", data=df)\n",
    "plt.show()"
   ]
  },
  {
   "cell_type": "code",
   "execution_count": null,
   "metadata": {},
   "outputs": [],
   "source": [
    "#regression plot (score)\n",
    "sns.regplot(x=\"score\", y=\"gross\", data=df)\n",
    "plt.show()\n"
   ]
  },
  {
   "cell_type": "code",
   "execution_count": null,
   "metadata": {},
   "outputs": [],
   "source": [
    "\n",
    "#correlation Matrix between all numeric column\n",
    "df.corr(method='pearson')\n"
   ]
  },
  {
   "cell_type": "code",
   "execution_count": null,
   "metadata": {},
   "outputs": [],
   "source": [
    "\n",
    "\n",
    "df.corr(method='kendall')\n"
   ]
  },
  {
   "cell_type": "code",
   "execution_count": null,
   "metadata": {},
   "outputs": [],
   "source": [
    "\n",
    "\n",
    "df.corr(method='spearman')\n",
    "\n"
   ]
  },
  {
   "cell_type": "code",
   "execution_count": null,
   "metadata": {},
   "outputs": [],
   "source": [
    "\n",
    "correlation_matrix = df.corr()\n",
    "sns.heatmap(correlation_matrix, annot=True )\n",
    "plt.title(\"Correlation matrixfor Numeric Features\")\n",
    "plt.xlabel(\"Movie feature\")\n",
    "plt.ylabel(\"Movie features\")\n",
    "plt.show()\n"
   ]
  },
  {
   "cell_type": "code",
   "execution_count": null,
   "metadata": {},
   "outputs": [],
   "source": [
    "#Using factorize- this assigns a random numeric value for each unique category\n",
    "\n",
    "df.apply(lambda x : x.factorize()[0]).corr(method ='pearson')"
   ]
  },
  {
   "cell_type": "code",
   "execution_count": null,
   "metadata": {},
   "outputs": [],
   "source": [
    "correlation_matrix = df.apply(lambda x : x.factorize()[0]).corr(method='pearsom')\n",
    "\n",
    "sns.heatmap(correlation_matrix, annot= True)\n",
    "\n",
    "plt.title(\"Correlation matrix for Movies\")\n",
    "\n",
    "plt.xlabel(\"Movie features\")\n",
    "\n",
    "plt.ylabel(\"Movie features\")\n",
    "\n",
    "plt.show()\n"
   ]
  },
  {
   "cell_type": "code",
   "execution_count": null,
   "metadata": {},
   "outputs": [],
   "source": [
    "correlation_mat = df.apply(lambda x : x.factorize()[0]).corr()\n",
    "\n",
    "corr_pairs = correlation_mat.unstack()\n",
    "\n",
    "print(corr_pairs)"
   ]
  },
  {
   "cell_type": "code",
   "execution_count": null,
   "metadata": {},
   "outputs": [],
   "source": [
    "sorted_pairs = corr_pairs.sort_values(kind=\"quicksort\")\n",
    "\n",
    "print(sorted_pairs)"
   ]
  },
  {
   "cell_type": "code",
   "execution_count": null,
   "metadata": {},
   "outputs": [],
   "source": [
    "strong_pairs = sorted_pairs[abs(sorted_pairs) > 0.5]\n",
    "\n",
    "print(strong_pairs)"
   ]
  },
  {
   "cell_type": "code",
   "execution_count": null,
   "metadata": {},
   "outputs": [],
   "source": [
    "# Looking at the top 15 companies by gross revenue\n",
    "CompanyGrossSum = df.groupby('company')[[\"gross\"]].sum()\n",
    "\n",
    "CompanyGrossSumSorted = CompanyGrossSum.sort_values('gross', ascending=False)\n",
    "\n",
    "CompanyGrossSumSorted = CompanyGrossSum['gross'].astype('int64')\n",
    "\n",
    "CompanyGrossSumSorted"
   ]
  },
  {
   "cell_type": "code",
   "execution_count": null,
   "metadata": {},
   "outputs": [],
   "source": [
    "df['year'] =df['released'].astype(str).str[:4]\n",
    "df"
   ]
  },
  {
   "cell_type": "code",
   "execution_count": null,
   "metadata": {},
   "outputs": [],
   "source": [
    "df.groupby(['company', 'year'])[[\"gross\"]].sum()"
   ]
  },
  {
   "cell_type": "code",
   "execution_count": null,
   "metadata": {},
   "outputs": [],
   "source": [
    "CompanyGrossSum = df.groupby(['company', 'year'])[[\"gross\"]].sum()\n",
    "\n",
    "CompanyGrossSumSorted = CompanyGrossSum.sort_values(['gross', 'company', 'year'])\n",
    "\n",
    "CompanyGrossSumSorted = CompanyGrossSum['gross'].astype('int64')\n",
    "\n",
    "CompanyGrossSumSorted"
   ]
  },
  {
   "cell_type": "code",
   "execution_count": 21,
   "metadata": {},
   "outputs": [
    {
     "data": {
      "text/plain": [
       "company\n",
       "Warner Bros.                 56491421806\n",
       "Universal Pictures           52514188890\n",
       "Columbia Pictures            43008941346\n",
       "Paramount Pictures           40493607415\n",
       "Twentieth Century Fox        40257053857\n",
       "Walt Disney Pictures         36327887792\n",
       "New Line Cinema              19883797684\n",
       "Marvel Studios               15065592411\n",
       "DreamWorks Animation         11873612858\n",
       "Touchstone Pictures          11795832638\n",
       "Dreamworks Pictures          11635441081\n",
       "Metro-Goldwyn-Mayer (MGM)     9230230105\n",
       "Summit Entertainment          8373718838\n",
       "Pixar Animation Studios       7886344526\n",
       "Fox 2000 Pictures             7443502667\n",
       "Name: gross, dtype: int64"
      ]
     },
     "execution_count": 21,
     "metadata": {},
     "output_type": "execute_result"
    }
   ],
   "source": [
    "CompanyGrossSum = df.groupby(['company'])[[\"gross\"]].sum()\n",
    "\n",
    "CompanyGrossSumSorted = CompanyGrossSum.sort_values(['gross','company'], ascending = False)[:15]\n",
    "\n",
    "CompanyGrossSumSorted = CompanyGrossSumSorted['gross'].astype('int64') \n",
    "\n",
    "CompanyGrossSumSorted"
   ]
  },
  {
   "cell_type": "code",
   "execution_count": 22,
   "metadata": {},
   "outputs": [
    {
     "data": {
      "image/png": "[encoded data removed]",
      "text/plain": [
       "<Figure size 1200x800 with 1 Axes>"
      ]
     },
     "metadata": {},
     "output_type": "display_data"
    }
   ],
   "source": [
    "plt.scatter(x=df['budget'], y=df['gross'], alpha=0.5)\n",
    "plt.title('Budget vs Gross Earnings')\n",
    "plt.xlabel('Gross Earnings')\n",
    "plt.ylabel('Budget for Film')\n",
    "plt.show()"
   ]
  },
  {
   "cell_type": "code",
   "execution_count": 23,
   "metadata": {},
   "outputs": [
    {
     "data": {
      "text/html": [
       "<div>\n",
       "<style scoped>\n",
       "    .dataframe tbody tr th:only-of-type {\n",
       "        vertical-align: middle;\n",
       "    }\n",
       "\n",
       "    .dataframe tbody tr th {\n",
       "        vertical-align: top;\n",
       "    }\n",
       "\n",
       "    .dataframe thead th {\n",
       "        text-align: right;\n",
       "    }\n",
       "</style>\n",
       "<table border=\"1\" class=\"dataframe\">\n",
       "  <thead>\n",
       "    <tr style=\"text-align: right;\">\n",
       "      <th></th>\n",
       "      <th>name</th>\n",
       "      <th>rating</th>\n",
       "      <th>genre</th>\n",
       "      <th>year</th>\n",
       "      <th>released</th>\n",
       "      <th>score</th>\n",
       "      <th>votes</th>\n",
       "      <th>director</th>\n",
       "      <th>writer</th>\n",
       "      <th>star</th>\n",
       "      <th>country</th>\n",
       "      <th>budget</th>\n",
       "      <th>gross</th>\n",
       "      <th>company</th>\n",
       "      <th>runtime</th>\n",
       "    </tr>\n",
       "  </thead>\n",
       "  <tbody>\n",
       "    <tr>\n",
       "      <th>0</th>\n",
       "      <td>6587</td>\n",
       "      <td>6</td>\n",
       "      <td>6</td>\n",
       "      <td>14</td>\n",
       "      <td>1705</td>\n",
       "      <td>8.4</td>\n",
       "      <td>927000.0</td>\n",
       "      <td>2589</td>\n",
       "      <td>4014</td>\n",
       "      <td>1047</td>\n",
       "      <td>54</td>\n",
       "      <td>19000000.0</td>\n",
       "      <td>46998772.0</td>\n",
       "      <td>2319</td>\n",
       "      <td>146.0</td>\n",
       "    </tr>\n",
       "    <tr>\n",
       "      <th>1</th>\n",
       "      <td>5573</td>\n",
       "      <td>6</td>\n",
       "      <td>1</td>\n",
       "      <td>13</td>\n",
       "      <td>1492</td>\n",
       "      <td>5.8</td>\n",
       "      <td>65000.0</td>\n",
       "      <td>2269</td>\n",
       "      <td>1632</td>\n",
       "      <td>327</td>\n",
       "      <td>55</td>\n",
       "      <td>4500000.0</td>\n",
       "      <td>58853106.0</td>\n",
       "      <td>731</td>\n",
       "      <td>104.0</td>\n",
       "    </tr>\n",
       "    <tr>\n",
       "      <th>2</th>\n",
       "      <td>5142</td>\n",
       "      <td>4</td>\n",
       "      <td>0</td>\n",
       "      <td>14</td>\n",
       "      <td>1771</td>\n",
       "      <td>8.7</td>\n",
       "      <td>1200000.0</td>\n",
       "      <td>1111</td>\n",
       "      <td>2567</td>\n",
       "      <td>1745</td>\n",
       "      <td>55</td>\n",
       "      <td>18000000.0</td>\n",
       "      <td>538375067.0</td>\n",
       "      <td>1540</td>\n",
       "      <td>124.0</td>\n",
       "    </tr>\n",
       "    <tr>\n",
       "      <th>3</th>\n",
       "      <td>286</td>\n",
       "      <td>4</td>\n",
       "      <td>4</td>\n",
       "      <td>13</td>\n",
       "      <td>1492</td>\n",
       "      <td>7.7</td>\n",
       "      <td>221000.0</td>\n",
       "      <td>1301</td>\n",
       "      <td>2000</td>\n",
       "      <td>2246</td>\n",
       "      <td>55</td>\n",
       "      <td>3500000.0</td>\n",
       "      <td>83453539.0</td>\n",
       "      <td>1812</td>\n",
       "      <td>88.0</td>\n",
       "    </tr>\n",
       "    <tr>\n",
       "      <th>4</th>\n",
       "      <td>1027</td>\n",
       "      <td>6</td>\n",
       "      <td>4</td>\n",
       "      <td>13</td>\n",
       "      <td>1543</td>\n",
       "      <td>7.3</td>\n",
       "      <td>108000.0</td>\n",
       "      <td>1054</td>\n",
       "      <td>521</td>\n",
       "      <td>410</td>\n",
       "      <td>55</td>\n",
       "      <td>6000000.0</td>\n",
       "      <td>39846344.0</td>\n",
       "      <td>1777</td>\n",
       "      <td>98.0</td>\n",
       "    </tr>\n",
       "    <tr>\n",
       "      <th>...</th>\n",
       "      <td>...</td>\n",
       "      <td>...</td>\n",
       "      <td>...</td>\n",
       "      <td>...</td>\n",
       "      <td>...</td>\n",
       "      <td>...</td>\n",
       "      <td>...</td>\n",
       "      <td>...</td>\n",
       "      <td>...</td>\n",
       "      <td>...</td>\n",
       "      <td>...</td>\n",
       "      <td>...</td>\n",
       "      <td>...</td>\n",
       "      <td>...</td>\n",
       "      <td>...</td>\n",
       "    </tr>\n",
       "    <tr>\n",
       "      <th>7663</th>\n",
       "      <td>3705</td>\n",
       "      <td>-1</td>\n",
       "      <td>6</td>\n",
       "      <td>18</td>\n",
       "      <td>2964</td>\n",
       "      <td>3.1</td>\n",
       "      <td>18.0</td>\n",
       "      <td>1500</td>\n",
       "      <td>2289</td>\n",
       "      <td>2421</td>\n",
       "      <td>55</td>\n",
       "      <td>7000.0</td>\n",
       "      <td>NaN</td>\n",
       "      <td>-1</td>\n",
       "      <td>90.0</td>\n",
       "    </tr>\n",
       "    <tr>\n",
       "      <th>7664</th>\n",
       "      <td>1678</td>\n",
       "      <td>-1</td>\n",
       "      <td>4</td>\n",
       "      <td>11</td>\n",
       "      <td>1107</td>\n",
       "      <td>4.7</td>\n",
       "      <td>36.0</td>\n",
       "      <td>774</td>\n",
       "      <td>2614</td>\n",
       "      <td>1886</td>\n",
       "      <td>55</td>\n",
       "      <td>NaN</td>\n",
       "      <td>NaN</td>\n",
       "      <td>539</td>\n",
       "      <td>90.0</td>\n",
       "    </tr>\n",
       "    <tr>\n",
       "      <th>7665</th>\n",
       "      <td>4717</td>\n",
       "      <td>-1</td>\n",
       "      <td>6</td>\n",
       "      <td>8</td>\n",
       "      <td>193</td>\n",
       "      <td>5.7</td>\n",
       "      <td>29.0</td>\n",
       "      <td>2061</td>\n",
       "      <td>2683</td>\n",
       "      <td>2040</td>\n",
       "      <td>55</td>\n",
       "      <td>58750.0</td>\n",
       "      <td>NaN</td>\n",
       "      <td>941</td>\n",
       "      <td>NaN</td>\n",
       "    </tr>\n",
       "    <tr>\n",
       "      <th>7666</th>\n",
       "      <td>2843</td>\n",
       "      <td>-1</td>\n",
       "      <td>6</td>\n",
       "      <td>18</td>\n",
       "      <td>2817</td>\n",
       "      <td>NaN</td>\n",
       "      <td>NaN</td>\n",
       "      <td>1184</td>\n",
       "      <td>1824</td>\n",
       "      <td>450</td>\n",
       "      <td>55</td>\n",
       "      <td>15000.0</td>\n",
       "      <td>NaN</td>\n",
       "      <td>-1</td>\n",
       "      <td>120.0</td>\n",
       "    </tr>\n",
       "    <tr>\n",
       "      <th>7667</th>\n",
       "      <td>5394</td>\n",
       "      <td>-1</td>\n",
       "      <td>10</td>\n",
       "      <td>9</td>\n",
       "      <td>391</td>\n",
       "      <td>5.7</td>\n",
       "      <td>7.0</td>\n",
       "      <td>2165</td>\n",
       "      <td>3344</td>\n",
       "      <td>2463</td>\n",
       "      <td>44</td>\n",
       "      <td>NaN</td>\n",
       "      <td>NaN</td>\n",
       "      <td>1787</td>\n",
       "      <td>102.0</td>\n",
       "    </tr>\n",
       "  </tbody>\n",
       "</table>\n",
       "<p>7668 rows × 15 columns</p>\n",
       "</div>"
      ],
      "text/plain": [
       "      name  rating  genre  year  released  score      votes  director  writer   \n",
       "0     6587       6      6    14      1705    8.4   927000.0      2589    4014  \\\n",
       "1     5573       6      1    13      1492    5.8    65000.0      2269    1632   \n",
       "2     5142       4      0    14      1771    8.7  1200000.0      1111    2567   \n",
       "3      286       4      4    13      1492    7.7   221000.0      1301    2000   \n",
       "4     1027       6      4    13      1543    7.3   108000.0      1054     521   \n",
       "...    ...     ...    ...   ...       ...    ...        ...       ...     ...   \n",
       "7663  3705      -1      6    18      2964    3.1       18.0      1500    2289   \n",
       "7664  1678      -1      4    11      1107    4.7       36.0       774    2614   \n",
       "7665  4717      -1      6     8       193    5.7       29.0      2061    2683   \n",
       "7666  2843      -1      6    18      2817    NaN        NaN      1184    1824   \n",
       "7667  5394      -1     10     9       391    5.7        7.0      2165    3344   \n",
       "\n",
       "      star  country      budget        gross  company  runtime  \n",
       "0     1047       54  19000000.0   46998772.0     2319    146.0  \n",
       "1      327       55   4500000.0   58853106.0      731    104.0  \n",
       "2     1745       55  18000000.0  538375067.0     1540    124.0  \n",
       "3     2246       55   3500000.0   83453539.0     1812     88.0  \n",
       "4      410       55   6000000.0   39846344.0     1777     98.0  \n",
       "...    ...      ...         ...          ...      ...      ...  \n",
       "7663  2421       55      7000.0          NaN       -1     90.0  \n",
       "7664  1886       55         NaN          NaN      539     90.0  \n",
       "7665  2040       55     58750.0          NaN      941      NaN  \n",
       "7666   450       55     15000.0          NaN       -1    120.0  \n",
       "7667  2463       44         NaN          NaN     1787    102.0  \n",
       "\n",
       "[7668 rows x 15 columns]"
      ]
     },
     "execution_count": 23,
     "metadata": {},
     "output_type": "execute_result"
    }
   ],
   "source": [
    "df_numerized = df\n",
    "\n",
    "\n",
    "for col_name in df_numerized.columns:\n",
    "    if(df_numerized[col_name].dtype == 'object'):\n",
    "        df_numerized[col_name]= df_numerized[col_name].astype('category')\n",
    "        df_numerized[col_name] = df_numerized[col_name].cat.codes\n",
    "        \n",
    "df_numerized"
   ]
  },
  {
   "cell_type": "code",
   "execution_count": null,
   "metadata": {},
   "outputs": [],
   "source": [
    "df_numerized.corr(method='pearson')"
   ]
  },
  {
   "cell_type": "code",
   "execution_count": null,
   "metadata": {},
   "outputs": [],
   "source": [
    "correlation_matrix = df_numerized.corr(method='pearson')\n",
    "\n",
    "sns.heatmap(correlation_matrix, annot = True)\n",
    "\n",
    "plt.title(\"Correlation matrix for Movies\")\n",
    "\n",
    "plt.xlabel(\"Movie features\")\n",
    "\n",
    "plt.ylabel(\"Movie features\")\n",
    "\n",
    "plt.show()"
   ]
  },
  {
   "cell_type": "code",
   "execution_count": null,
   "metadata": {},
   "outputs": [],
   "source": [
    "for col_name in df.columns:\n",
    "    if(df[col_name].dtype == 'object'):\n",
    "        df[col_name]= df[col_name].astype('category')\n",
    "        df[col_name] = df[col_name].cat.codes"
   ]
  },
  {
   "cell_type": "code",
   "execution_count": null,
   "metadata": {},
   "outputs": [],
   "source": [
    "df[cat_columns] = df[cat_columns].apply(lambda x: x.cat.codes)\n",
    "\n",
    "df"
   ]
  },
  {
   "cell_type": "code",
   "execution_count": 25,
   "metadata": {},
   "outputs": [
    {
     "name": "stderr",
     "output_type": "stream",
     "text": [
      "c:\\Users\\Aditi Joshi\\AppData\\Local\\Programs\\Python\\Python310\\lib\\site-packages\\seaborn\\categorical.py:3544: UserWarning: 75.9% of the points cannot be placed; you may want to decrease the size of the markers or use stripplot.\n",
      "  warnings.warn(msg, UserWarning)\n",
      "c:\\Users\\Aditi Joshi\\AppData\\Local\\Programs\\Python\\Python310\\lib\\site-packages\\seaborn\\categorical.py:3544: UserWarning: 50.0% of the points cannot be placed; you may want to decrease the size of the markers or use stripplot.\n",
      "  warnings.warn(msg, UserWarning)\n",
      "c:\\Users\\Aditi Joshi\\AppData\\Local\\Programs\\Python\\Python310\\lib\\site-packages\\seaborn\\categorical.py:3544: UserWarning: 60.9% of the points cannot be placed; you may want to decrease the size of the markers or use stripplot.\n",
      "  warnings.warn(msg, UserWarning)\n",
      "c:\\Users\\Aditi Joshi\\AppData\\Local\\Programs\\Python\\Python310\\lib\\site-packages\\seaborn\\categorical.py:3544: UserWarning: 87.6% of the points cannot be placed; you may want to decrease the size of the markers or use stripplot.\n",
      "  warnings.warn(msg, UserWarning)\n",
      "c:\\Users\\Aditi Joshi\\AppData\\Local\\Programs\\Python\\Python310\\lib\\site-packages\\seaborn\\categorical.py:3544: UserWarning: 86.7% of the points cannot be placed; you may want to decrease the size of the markers or use stripplot.\n",
      "  warnings.warn(msg, UserWarning)\n",
      "c:\\Users\\Aditi Joshi\\AppData\\Local\\Programs\\Python\\Python310\\lib\\site-packages\\seaborn\\categorical.py:3544: UserWarning: 89.4% of the points cannot be placed; you may want to decrease the size of the markers or use stripplot.\n",
      "  warnings.warn(msg, UserWarning)\n"
     ]
    }
   ],
   "source": [
    "sns.swarmplot(x=\"rating\", y=\"gross\", data=df)"
   ]
  },
  {
   "attachments": {},
   "cell_type": "markdown",
   "metadata": {},
   "source": [
    "sns.stripplot(x=\"rating\", y=\"gross\", data=df)"
   ]
  }
 ],
 "metadata": {
  "kernelspec": {
   "display_name": "Python 3",
   "language": "python",
   "name": "python3"
  },
  "language_info": {
   "codemirror_mode": {
    "name": "ipython",
    "version": 3
   },
   "file_extension": ".py",
   "mimetype": "text/x-python",
   "name": "python",
   "nbconvert_exporter": "python",
   "pygments_lexer": "ipython3",
   "version": "3.10.1"
  },
  "orig_nbformat": 4
 },
 "nbformat": 4,
 "nbformat_minor": 2
}
